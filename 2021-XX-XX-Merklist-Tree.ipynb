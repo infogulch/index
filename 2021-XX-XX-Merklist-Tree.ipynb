{
 "cells": [
  {
   "cell_type": "markdown",
   "id": "d6b5f16e-76a4-473f-a8cd-efd532f8673f",
   "metadata": {},
   "source": [
    "# Merklist Tree\n",
    "\n",
    "Part 2 of the Merklist idea. Constructing a tree structure of summarized sublists, so that mutations to the list can be computed, verified, and stored using $O(log(N))$ time and space.\n",
    "\n"
   ]
  }
 ],
 "metadata": {
  "kernelspec": {
   "display_name": "Python 3",
   "language": "python",
   "name": "python3"
  },
  "language_info": {
   "codemirror_mode": {
    "name": "ipython",
    "version": 3
   },
   "file_extension": ".py",
   "mimetype": "text/x-python",
   "name": "python",
   "nbconvert_exporter": "python",
   "pygments_lexer": "ipython3",
   "version": "3.9.2"
  }
 },
 "nbformat": 4,
 "nbformat_minor": 5
}
